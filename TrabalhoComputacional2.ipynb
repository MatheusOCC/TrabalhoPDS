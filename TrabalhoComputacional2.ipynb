{
 "cells": [
  {
   "cell_type": "markdown",
   "id": "94543fd5-882e-4a6e-ac2a-270a14ae2128",
   "metadata": {
    "tags": []
   },
   "source": [
    "# Trabalho 2 - PDS"
   ]
  },
  {
   "cell_type": "markdown",
   "id": "49c9bc89-7635-4933-92ed-88e49f24d4b6",
   "metadata": {},
   "source": [
    "## Matheus Cerqueira e Pedro Hugo"
   ]
  },
  {
   "cell_type": "markdown",
   "id": "8ea1a584-9d99-4b67-8c2b-cb62c819a4fd",
   "metadata": {},
   "source": [
    "## Projeto X"
   ]
  }
 ],
 "metadata": {
  "kernelspec": {
   "display_name": "Python 3 (ipykernel)",
   "language": "python",
   "name": "python3"
  },
  "language_info": {
   "codemirror_mode": {
    "name": "ipython",
    "version": 3
   },
   "file_extension": ".py",
   "mimetype": "text/x-python",
   "name": "python",
   "nbconvert_exporter": "python",
   "pygments_lexer": "ipython3",
   "version": "3.9.13"
  }
 },
 "nbformat": 4,
 "nbformat_minor": 5
}
